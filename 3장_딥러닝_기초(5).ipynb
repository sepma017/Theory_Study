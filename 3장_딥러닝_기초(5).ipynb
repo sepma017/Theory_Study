{
  "nbformat": 4,
  "nbformat_minor": 0,
  "metadata": {
    "colab": {
      "name": "3장_딥러닝 기초(5).ipynb",
      "provenance": [],
      "collapsed_sections": [],
      "authorship_tag": "ABX9TyPEBZmh+HLBIkaEbPX+C3WD"
    },
    "kernelspec": {
      "name": "python3",
      "display_name": "Python 3"
    },
    "language_info": {
      "name": "python"
    }
  },
  "cells": [
    {
      "cell_type": "markdown",
      "source": [
        "# 단순한 딥러닝 구현\n",
        "- 단순한 딥러닝을 구현해 손글씨 숫자를 식별할 수 있도록 학습시킨다.\n",
        "- 전체 코드를 소개하기 전에 훈련용 손글씨 숫자 이미지와 코드의 중요한 부분을 먼저 살펴본다."
      ],
      "metadata": {
        "id": "co6sGU2Pz_e5"
      }
    },
    {
      "cell_type": "markdown",
      "source": [
        "### 손글씨 숫자 이미지 데이터 확인\n",
        "- 머신러닝 프레임워크인 사이킷런(scikit-learn)에는 몇 가지 학습용 데이터 세트가 준비되어 있다.\n",
        "- 이번에는 그중에서 손글씨 숫자 이미지 데이터 세트를 읽어본다."
      ],
      "metadata": {
        "id": "JRg3VbSd0Lje"
      }
    },
    {
      "cell_type": "code",
      "execution_count": 1,
      "metadata": {
        "colab": {
          "base_uri": "https://localhost:8080/",
          "height": 286
        },
        "id": "wqJ-V-h7z0we",
        "outputId": "31047d4e-321d-47fe-a155-78e9fcf11c95"
      },
      "outputs": [
        {
          "output_type": "display_data",
          "data": {
            "text/plain": [
              "<Figure size 720x288 with 10 Axes>"
            ],
            "image/png": "[encoded data removed]"
          },
          "metadata": {
            "needs_background": "light"
          }
        },
        {
          "output_type": "stream",
          "name": "stdout",
          "text": [
            "데이터 형태: (1797, 64)\n",
            "레이블: [0 1 2 3 4 5 6 7 8 9]\n"
          ]
        }
      ],
      "source": [
        "## 손글씨 숫자 이미지 데이터 읽고 출력하기\n",
        "\n",
        "import numpy as np\n",
        "import matplotlib.pyplot as plt\n",
        "from sklearn import datasets\n",
        "\n",
        "digits_data = datasets.load_digits()\n",
        "\n",
        "n_img = 10  # 출력할 이미지 개수\n",
        "plt.figure(figsize=(10, 4))\n",
        "for i in range(n_img):\n",
        "    # 입력 이미지\n",
        "    ax = plt.subplot(2, 5, i+1)\n",
        "    plt.imshow(digits_data.data[i].reshape(8, 8), cmap=\"Greys_r\")\n",
        "    ax.get_xaxis().set_visible(False)\n",
        "    ax.get_yaxis().set_visible(False)\n",
        "plt.show()\n",
        "\n",
        "print(\"데이터 형태:\", digits_data.data.shape)\n",
        "print(\"레이블:\", digits_data.target[:n_img])"
      ]
    },
    {
      "cell_type": "markdown",
      "source": [
        "### 데이터 전처리\n",
        "- 딥러닝에 적용하기 위해 입력과 정답 데이터를 표준화하고 원핫 인코딩(one-hot encoding)으로 변경한다."
      ],
      "metadata": {
        "id": "YLuYgNeH3NgC"
      }
    },
    {
      "cell_type": "code",
      "source": [
        "## 데이터 전처리\n",
        "from sklearn.model_selection import train_test_split\n",
        "\n",
        "# -- 입력 데이터 --\n",
        "input_data = np.asarray(digits_data.data)\n",
        "# 평균 0, 표준편차 1\n",
        "input_data = (input_data - np.average(input_data)) / np.std(input_data)\n",
        "\n",
        "# -- 정답 데이터 --\n",
        "correct = np.asarray(digits_data.target)\n",
        "correct_data = np.zeros((len(correct), n_out))\n",
        "for i in range(len(correct)):\n",
        "    correct_data[i, correct[i]] = 1 # 원핫 인코딩\n",
        "\n",
        "# -- 훈련 데이터와 테스트 데이터로 분할\n",
        "x_train, x_test, t_train, t_test = train_test_split(input_data, correct_data)"
      ],
      "metadata": {
        "id": "nfPd_0bP3_il"
      },
      "execution_count": null,
      "outputs": []
    },
    {
      "cell_type": "markdown",
      "source": [
        "- 데이터를 asarray 함수로 처리하는 이유는 => GPU를 활용하기 위해서\n",
        "- 사이킷런 데이터 세트는 GPU 활용을 고려하지 않기 때문에 GPU를 사용하려면 쿠파이(CuPy)의 배열로 변환해야 한다.\n",
        "- 입력 데이터는 각 데이터에 평균값을 빼고 표준편차로 나누어 평균 0, 표준편차 1로 만든다.\n",
        "- 정답 데이터 레이블은 원한 인코딩(one-hot encoding)으로 변환한다.\n",
        "```\n",
        "[0 0 1 0 .... 0 0]\n",
        "```\n",
        "- 원핫 인코딩은 하나의 값만 1이고 나머지는 모두 0\n",
        "- 코드에서는 레이블이 표시된 부분이 1이고 나머지는 0이다.\n",
        "- 입력과 정답 데이터를 훈련 데이터와 테스트 데이터로 분할한다.\n",
        "- 사이킷런의 train_test_split 함수를 사용한다.\n",
        "- train_test_split은 기본적으로 임의 추출한 25%의 데이터를 테스트 데이터에 할당하고 나머지 데이터를 훈련 데이터로 남겨둔다."
      ],
      "metadata": {
        "id": "4mkWWd_94f24"
      }
    },
    {
      "cell_type": "markdown",
      "source": [
        "### 순전파와 역전파\n",
        "- 각 층을 초기화해 리스트 형식으로 저장한다.\n",
        "- 그다음 순전파와 역전파 함수와 파라미터 갱신을 위한 함수를 정의한다."
      ],
      "metadata": {
        "id": "ij8SMNlu5vhO"
      }
    },
    {
      "cell_type": "code",
      "source": [
        "## 여러 함수 정의\n",
        "\n",
        "# -- 각 층의 초기화 --\n",
        "layers = [MiddleLayer(img_size * img_size, n_mid), MiddleLayer(n_mid, n_mid), OutputLayer(n_mid, n_out)]\n",
        "\n",
        "# -- 순전파 --\n",
        "def forward_propagation(x):\n",
        "    for layer in layers:\n",
        "        layer.forward(x)\n",
        "        x = layer.y\n",
        "    return x\n",
        "\n",
        "# -- 역전파 --\n",
        "def backpropagation(t):\n",
        "    grad_y = t\n",
        "    for layer in reversed(layers):\n",
        "        layer.backward(grad_y)\n",
        "        grad_y = layer.grad_x\n",
        "    return grad_y\n",
        "\n",
        "# -- 파라미터 갱신 --\n",
        "def update_params():\n",
        "    for layer in layers:\n",
        "        layer.update(eta)"
      ],
      "metadata": {
        "id": "owk-iypW66Je"
      },
      "execution_count": null,
      "outputs": []
    },
    {
      "cell_type": "markdown",
      "source": [
        "- 층을 리스트로 저장해두면 for문으로 순전파와 역전파, 파라미터를 갱신하는 코드를 짧고 간단하게 작성할 수 있다.\n",
        "- 역전파에서는 reversed 함수를 사용해 반복 처리 방향을 반대로 바꿀 수 있다."
      ],
      "metadata": {
        "id": "10eawgtd7A_7"
      }
    },
    {
      "cell_type": "markdown",
      "source": [
        "### 미니 배치 구현\n",
        "- 랜덤하게 미니 배치를 구성하고 순전파와 역전파, 파라미터 갱신을 실행한다."
      ],
      "metadata": {
        "id": "LYtulvhR7OI2"
      }
    },
    {
      "cell_type": "code",
      "source": [
        "## 미니 배치 구현 코드\n",
        "n_batch = len(x_train) // batch_size    # 1에포크당 배치 개수\n",
        "for i in range(epochs):\n",
        "\n",
        "    # -- 학습 --\n",
        "    index_random = np.arange(len(x_train))\n",
        "    np.random.shuffle(index_random)     # 인덱스를 임의로 섞기\n",
        "    for j in range(n_batch):\n",
        "\n",
        "        # 미니 배치 구성\n",
        "        mb_index = index_random[j * batch_size : (j+1) * batch_size]\n",
        "        x_mb = x_train[mb_index, :]\n",
        "        t_mb = t_train[mb_index, :]\n",
        "\n",
        "        # 순전파와 역전파\n",
        "        forward_propagation(x_mb)\n",
        "        backpropagation(t_mb)\n",
        "\n",
        "        # 파라미터 갱신\n",
        "        update_params()"
      ],
      "metadata": {
        "id": "T1OeNnx_8K29"
      },
      "execution_count": null,
      "outputs": []
    },
    {
      "cell_type": "markdown",
      "source": [
        "- 임의로 섞인 인덱스를 이용해 입력과 정답 쌍 데이터를 배치 사이즈만큼 임의 추출한다.\n",
        "- 추출된 미니 배치를 사용해 순전파와 역전파를 실행하고 파라미터를 갱신한다."
      ],
      "metadata": {
        "id": "o-LtUQiC8OTC"
      }
    },
    {
      "cell_type": "markdown",
      "source": [
        ""
      ],
      "metadata": {
        "id": "Ql_DTEIR8Yw8"
      }
    },
    {
      "cell_type": "code",
      "source": [
        ""
      ],
      "metadata": {
        "id": "Rz55tzKW8XbV"
      },
      "execution_count": null,
      "outputs": []
    }
  ]
}