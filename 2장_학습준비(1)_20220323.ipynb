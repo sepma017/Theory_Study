{
  "nbformat": 4,
  "nbformat_minor": 0,
  "metadata": {
    "colab": {
      "name": "2장_학습준비(1)_20220323.ipynb",
      "provenance": [],
      "authorship_tag": "ABX9TyN3hC0fxAHJSPvkasnLFX/c"
    },
    "kernelspec": {
      "name": "python3",
      "display_name": "Python 3"
    },
    "language_info": {
      "name": "python"
    }
  },
  "cells": [
    {
      "cell_type": "markdown",
      "source": [
        "# 핵심 딥러닝 입문\n",
        "## 2장 학습 준비\n",
        "- 파이썬 기초\n",
        "- 넘파이(numpy)와 맷플롯립(matplotlib)\n",
        "- 수학 기초\n"
      ],
      "metadata": {
        "id": "YInmZpoLvbct"
      }
    },
    {
      "cell_type": "markdown",
      "source": [
        "### 1. 파이썬 기초"
      ],
      "metadata": {
        "id": "7eUkGEnXwK8M"
      }
    },
    {
      "cell_type": "code",
      "execution_count": 1,
      "metadata": {
        "colab": {
          "base_uri": "https://localhost:8080/"
        },
        "id": "N4ylN5Qwuuq4",
        "outputId": "c3f359e1-0875-4af2-8503-9325dfe0bff8"
      },
      "outputs": [
        {
          "output_type": "stream",
          "name": "stdout",
          "text": [
            "Hello World\n"
          ]
        }
      ],
      "source": [
        "print(\"Hello World\")"
      ]
    },
    {
      "cell_type": "code",
      "source": [
        "%matplotlib inline\n",
        "\n",
        "import numpy as np\n",
        "import matplotlib.pyplot as plt\n",
        "\n",
        "x = np.linspace(-np.pi, np.pi)\n",
        "plt.plot(x, np.cos(x))\n",
        "plt.plot(x, np.sin(x)) \n",
        "plt.show()"
      ],
      "metadata": {
        "colab": {
          "base_uri": "https://localhost:8080/",
          "height": 265
        },
        "id": "GR0nGaGkwOl7",
        "outputId": "8edd797c-4f7e-41be-d133-2fac95deba76"
      },
      "execution_count": 4,
      "outputs": [
        {
          "output_type": "display_data",
          "data": {
            "text/plain": [
              "<Figure size 432x288 with 1 Axes>"
            ],
            "image/png": "[encoded data removed]"
          },
          "metadata": {
            "needs_background": "light"
          }
        }
      ]
    },
    {
      "cell_type": "markdown",
      "source": [
        "#### 변수와 변수형"
      ],
      "metadata": {
        "id": "WJCbMretwkrB"
      }
    },
    {
      "cell_type": "code",
      "source": [
        "a = 123                 # 정수형(int)\n",
        "b = 123.456             # 부동소수점형(float)\n",
        "c = \"Hello World!\"      # 문자열형(str)\n",
        "d = True                # 논리형(bool)\n",
        "e = [1, 2, 3]           # 리스트형(list)"
      ],
      "metadata": {
        "id": "QaUUqvvTwUfp"
      },
      "execution_count": 5,
      "outputs": []
    },
    {
      "cell_type": "code",
      "source": [
        "print(type(a))"
      ],
      "metadata": {
        "colab": {
          "base_uri": "https://localhost:8080/"
        },
        "id": "LHV8XngBw2Ea",
        "outputId": "359f9499-12d8-4e39-9f5f-57ac1ee8fd92"
      },
      "execution_count": 6,
      "outputs": [
        {
          "output_type": "stream",
          "name": "stdout",
          "text": [
            "<class 'int'>\n"
          ]
        }
      ]
    },
    {
      "cell_type": "code",
      "source": [
        "a = True; b = False\n",
        "print(a+b)"
      ],
      "metadata": {
        "colab": {
          "base_uri": "https://localhost:8080/"
        },
        "id": "qJp1AJ_qw4WM",
        "outputId": "a1b3a284-35a9-4c29-b1f4-710ad2742aae"
      },
      "execution_count": 7,
      "outputs": [
        {
          "output_type": "stream",
          "name": "stdout",
          "text": [
            "1\n"
          ]
        }
      ]
    },
    {
      "cell_type": "code",
      "source": [
        "1.2e5\n",
        "1.2e-5"
      ],
      "metadata": {
        "colab": {
          "base_uri": "https://localhost:8080/"
        },
        "id": "EKhFL3tUw9KF",
        "outputId": "1fb2d689-48bb-4d0c-c689-d3185384e2ed"
      },
      "execution_count": 8,
      "outputs": [
        {
          "output_type": "execute_result",
          "data": {
            "text/plain": [
              "1.2e-05"
            ]
          },
          "metadata": {},
          "execution_count": 8
        }
      ]
    },
    {
      "cell_type": "markdown",
      "source": [
        "#### 연산자"
      ],
      "metadata": {
        "id": "wgOwSsXw4cdn"
      }
    },
    {
      "cell_type": "code",
      "source": [
        "a = 3; b = 4\n",
        "\n",
        "c = a + b   # 덧셈\n",
        "print(c)\n",
        "\n",
        "d = a < b   # 비교\n",
        "print(d)\n",
        "\n",
        "e = 3 < 4 and 4 < 5     # 비교논리합\n",
        "print(e)"
      ],
      "metadata": {
        "colab": {
          "base_uri": "https://localhost:8080/"
        },
        "id": "lY2XioxjxAp3",
        "outputId": "5d9449ab-eb77-4613-c250-269b5d98c772"
      },
      "execution_count": 9,
      "outputs": [
        {
          "output_type": "stream",
          "name": "stdout",
          "text": [
            "7\n",
            "True\n",
            "True\n"
          ]
        }
      ]
    },
    {
      "cell_type": "markdown",
      "source": [
        "- 파이썬의 주요 연산자"
      ],
      "metadata": {
        "id": "4EuUHpCM3pVb"
      }
    },
    {
      "cell_type": "markdown",
      "source": [
        "![2-1.PNG](data:image/png;base64,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)"
      ],
      "metadata": {
        "id": "Dt8GfgfS3l6g"
      }
    },
    {
      "cell_type": "code",
      "source": [
        "a = \"Hello\" + \"World\"           # 문자열 결합\n",
        "print(a)\n",
        "\n",
        "b = [1, 2, 3] + [4, 5, 6]       # 리스트 결합\n",
        "print(b)"
      ],
      "metadata": {
        "colab": {
          "base_uri": "https://localhost:8080/"
        },
        "id": "airsMYKl3XRo",
        "outputId": "23949a72-3cd4-4d48-b5bd-7f380d2fd211"
      },
      "execution_count": 11,
      "outputs": [
        {
          "output_type": "stream",
          "name": "stdout",
          "text": [
            "HelloWorld\n",
            "[1, 2, 3, 4, 5, 6]\n"
          ]
        }
      ]
    },
    {
      "cell_type": "markdown",
      "source": [
        "#### 리스트\n",
        "- 여러 개의 값을 다룰 때 이용\n",
        "- 전체 원소를 대괄호([])로 감싸고, 각 원소는 쉼표(,)로 구분한다."
      ],
      "metadata": {
        "id": "BH3dv9Bi4h-1"
      }
    },
    {
      "cell_type": "code",
      "source": [
        "a = [1, 2, 3, 4, 5]\n",
        "\n",
        "b = a[2]\n",
        "print(b)\n",
        "\n",
        "a.append(6)\n",
        "print(a)\n",
        "\n",
        "a[2] = 7\n",
        "print(a)"
      ],
      "metadata": {
        "colab": {
          "base_uri": "https://localhost:8080/"
        },
        "id": "TYhGxAPq3ySn",
        "outputId": "cb5fd875-6bd0-41c9-c050-b6e5d1c1ce32"
      },
      "execution_count": 12,
      "outputs": [
        {
          "output_type": "stream",
          "name": "stdout",
          "text": [
            "3\n",
            "[1, 2, 3, 4, 5, 6]\n",
            "[1, 2, 7, 4, 5, 6]\n"
          ]
        }
      ]
    },
    {
      "cell_type": "markdown",
      "source": [
        "#### 튜플\n",
        "- 여러 개의 값을 다룰 때 이용하나, 원소를 추가, 삭제, 변경할 수 없다.\n",
        "- 전체를 소괄호(())로 감싸고 각 원소 값은 (,)로 구분한다."
      ],
      "metadata": {
        "id": "UwCIZYuc5HZw"
      }
    },
    {
      "cell_type": "code",
      "source": [
        "a = (1, 2, 3, 4, 5)     # 튜플 생성\n",
        "\n",
        "b = a[2]                # 3번째 원소 값을 추출\n",
        "print(b)"
      ],
      "metadata": {
        "colab": {
          "base_uri": "https://localhost:8080/"
        },
        "id": "n0mjzJtU4ysA",
        "outputId": "cc9a9e3a-0004-4338-a347-2d8593507ccd"
      },
      "execution_count": 13,
      "outputs": [
        {
          "output_type": "stream",
          "name": "stdout",
          "text": [
            "3\n"
          ]
        }
      ]
    },
    {
      "cell_type": "markdown",
      "source": [
        "- 원소가 하나뿐일 경우 => 값 뒤에 쉼표(,)를 쓴다."
      ],
      "metadata": {
        "id": "6OHfkZXE5eAc"
      }
    },
    {
      "cell_type": "code",
      "source": [
        "(3, )"
      ],
      "metadata": {
        "colab": {
          "base_uri": "https://localhost:8080/"
        },
        "id": "THIKrq1j5bLt",
        "outputId": "ca963b4f-35c5-49e9-9b75-aa99fd48868e"
      },
      "execution_count": 14,
      "outputs": [
        {
          "output_type": "execute_result",
          "data": {
            "text/plain": [
              "(3,)"
            ]
          },
          "metadata": {},
          "execution_count": 14
        }
      ]
    },
    {
      "cell_type": "markdown",
      "source": [
        "- 튜플과 리스트의 원소는 한꺼번에 변수에 입력가능"
      ],
      "metadata": {
        "id": "tA4xQopN5msW"
      }
    },
    {
      "cell_type": "code",
      "source": [
        "a = [1, 2, 3]\n",
        "a1, a2, a3 = a\n",
        "print(a1, a2, a3)\n",
        "\n",
        "b = (4, 5, 6)\n",
        "b1, b2, b3 = b\n",
        "print(b1, b2, b3)"
      ],
      "metadata": {
        "colab": {
          "base_uri": "https://localhost:8080/"
        },
        "id": "cp3aRp7L5lmq",
        "outputId": "6ab441d2-588d-4f1d-a849-ed38bccc3206"
      },
      "execution_count": 15,
      "outputs": [
        {
          "output_type": "stream",
          "name": "stdout",
          "text": [
            "1 2 3\n",
            "4 5 6\n"
          ]
        }
      ]
    },
    {
      "cell_type": "markdown",
      "source": [
        "#### 딕셔너리\n",
        "- 딕셔너리는 키(key)와 값(value)을 조합해서 저장\n"
      ],
      "metadata": {
        "id": "MY7o7qvJ54sD"
      }
    },
    {
      "cell_type": "code",
      "source": [
        "a = {\"Apple\":3, \"Pineapple\":4}      # 딕셔너리 생성\n",
        "\n",
        "print(a[\"Apple\"])\n",
        "\n",
        "a[\"Pineapple\"] = 6\n",
        "print(a[\"Pineapple\"])\n",
        "\n",
        "a[\"Melon\"] = 3\n",
        "print(a)"
      ],
      "metadata": {
        "colab": {
          "base_uri": "https://localhost:8080/"
        },
        "id": "H0HeQzOw5z8A",
        "outputId": "2b6934ea-41e1-4248-b627-9b6fd9d6a27c"
      },
      "execution_count": 16,
      "outputs": [
        {
          "output_type": "stream",
          "name": "stdout",
          "text": [
            "3\n",
            "6\n",
            "{'Apple': 3, 'Pineapple': 6, 'Melon': 3}\n"
          ]
        }
      ]
    },
    {
      "cell_type": "markdown",
      "source": [
        "#### if문\n",
        "- 조건문은 **if**를 사용\n",
        "- if 조건이 충족되지 않으면 위에서부터 순차적으로 elif조건을 만족하는지 판단함.\n",
        "- 모든 조건이 만족하지 않을 경우 else가 실행\n",
        "- 파이썬은 반드시 **들여쓰기**를 해야 한다. => 들여쓰기 하지 않은 행이 나오면 그 직전의 블록이 끝남. (들여쓰기 공백은 4칸)"
      ],
      "metadata": {
        "id": "QR85K7Ll6WX6"
      }
    },
    {
      "cell_type": "code",
      "source": [
        "a = 7\n",
        "if a < 12:\n",
        "    print(\"Good morning\")\n",
        "elif a < 17:\n",
        "    print(\"Good afternoon!\")\n",
        "elif a < 21:\n",
        "    print(\"Good evening!\")\n",
        "else:\n",
        "    print(\"Good night!\")"
      ],
      "metadata": {
        "colab": {
          "base_uri": "https://localhost:8080/"
        },
        "id": "3BJ6ALQj6VWZ",
        "outputId": "272d955b-4644-47c8-97b6-a423c1b16cfb"
      },
      "execution_count": 17,
      "outputs": [
        {
          "output_type": "stream",
          "name": "stdout",
          "text": [
            "Good morning\n"
          ]
        }
      ]
    },
    {
      "cell_type": "markdown",
      "source": [
        "#### for문\n",
        "- 지정된 횟수만큼 반복할 때 사용\n",
        "- 반복할 범위를 지정하기 위해서 **리스트나 range함수를 in연산자와 함께 이용**한다.\n",
        "- range 함수의 사용방법\n",
        "```\n",
        "range([시작숫자,] 끝숫자[, 간격])\n",
        "```"
      ],
      "metadata": {
        "id": "C-ZfUczF7CdS"
      }
    },
    {
      "cell_type": "code",
      "source": [
        "for a in [4, 7, 10]:    # 리스트를 이용한 반복\n",
        "    print(a)\n",
        "\n",
        "for a in range(3):      # range함수를 사용한 반복\n",
        "    print(a)"
      ],
      "metadata": {
        "colab": {
          "base_uri": "https://localhost:8080/"
        },
        "id": "ElmzrF1r6-aE",
        "outputId": "624152b6-e839-4129-953b-89141dc8a70e"
      },
      "execution_count": 18,
      "outputs": [
        {
          "output_type": "stream",
          "name": "stdout",
          "text": [
            "4\n",
            "7\n",
            "10\n",
            "0\n",
            "1\n",
            "2\n"
          ]
        }
      ]
    },
    {
      "cell_type": "markdown",
      "source": [
        "#### 함수\n",
        "- 함수를 이용하면 여러 행으로 작성된 명령을 하나로 정리할 수 있다.\n",
        "```\n",
        "def [함수명](인수)\n",
        "    return [값]\n",
        "```"
      ],
      "metadata": {
        "id": "5JzQcGjG7gig"
      }
    },
    {
      "cell_type": "code",
      "source": [
        "def add(a, b):\n",
        "    c = a + b       # 함수 정의\n",
        "    return c\n",
        "\n",
        "print(add(3, 4))"
      ],
      "metadata": {
        "colab": {
          "base_uri": "https://localhost:8080/"
        },
        "id": "UMcDsd5e7eat",
        "outputId": "4ebfc2af-0c9d-4c43-bda0-1cd531e5b809"
      },
      "execution_count": 19,
      "outputs": [
        {
          "output_type": "stream",
          "name": "stdout",
          "text": [
            "7\n"
          ]
        }
      ]
    },
    {
      "cell_type": "markdown",
      "source": [
        "- 함수는 *(별표)를 붙인 튜플을 이용해 여러 개의 인수를 한 번에 전달 가능"
      ],
      "metadata": {
        "id": "OzNqJIwP7-XT"
      }
    },
    {
      "cell_type": "code",
      "source": [
        "def add(a, b, c):\n",
        "    d = a + b + c       # 함수 정의\n",
        "    print(d)\n",
        "\n",
        "e = (1, 2, 3)\n",
        "add(*e)                 # 여러 개의 인수를 한 번에 전달"
      ],
      "metadata": {
        "colab": {
          "base_uri": "https://localhost:8080/"
        },
        "id": "rDF0hIrC79bb",
        "outputId": "cbccd20f-934d-4814-adc6-48029a29b405"
      },
      "execution_count": 20,
      "outputs": [
        {
          "output_type": "stream",
          "name": "stdout",
          "text": [
            "6\n"
          ]
        }
      ]
    },
    {
      "cell_type": "markdown",
      "source": [
        "#### 변수의 범위\n",
        "- 함수 안에 정의된 변수: **지역(local)변수** => 함수 안에서만 참조가능\n",
        "- 함수 밖에 정의된 변수: **전역(global)변수** => 어디에서나 참조가능"
      ],
      "metadata": {
        "id": "tOY0C06h8Q1t"
      }
    },
    {
      "cell_type": "code",
      "source": [
        "a = 123             # 전역변수\n",
        "\n",
        "def showNum():\n",
        "    b = 456         # 지역변수\n",
        "    print(a, b)\n",
        "\n",
        "showNum()"
      ],
      "metadata": {
        "colab": {
          "base_uri": "https://localhost:8080/"
        },
        "id": "a2I-_Jhu8QHk",
        "outputId": "066931dc-63c8-4cad-ee0d-0b22079d86bc"
      },
      "execution_count": 22,
      "outputs": [
        {
          "output_type": "stream",
          "name": "stdout",
          "text": [
            "123 456\n"
          ]
        }
      ]
    },
    {
      "cell_type": "markdown",
      "source": [
        "- 파이썬에서는 함수 안에서 전역변수에 값을 입력하려고 하면 새로운 지역변수로 간주함. \n",
        "- 함수 안에서 전역변수 a에 값을 입력해도 전역변수 a의 값은 바뀌지 않음."
      ],
      "metadata": {
        "id": "IS3zuOgD8xfq"
      }
    },
    {
      "cell_type": "code",
      "source": [
        "a = 123\n",
        "\n",
        "def setLocal():\n",
        "    a = 456                 # a는 지역변수로 간주됨\n",
        "    print(\"Local:\", a)\n",
        "\n",
        "setLocal()\n",
        "print(\"Global:\", a)"
      ],
      "metadata": {
        "colab": {
          "base_uri": "https://localhost:8080/"
        },
        "id": "crXdMTmO8ra-",
        "outputId": "c406a452-2201-43f3-93b8-7d4791f13f73"
      },
      "execution_count": 23,
      "outputs": [
        {
          "output_type": "stream",
          "name": "stdout",
          "text": [
            "Local: 456\n",
            "Global: 123\n"
          ]
        }
      ]
    },
    {
      "cell_type": "markdown",
      "source": [
        "- 함수 안에서 전역변수의 값을 변경하기 위해서는 **global**키워드를 이용!"
      ],
      "metadata": {
        "id": "4Ge0fodE9MmJ"
      }
    },
    {
      "cell_type": "code",
      "source": [
        "a = 123\n",
        "\n",
        "def setGlobal():\n",
        "    global a\n",
        "    a = 456\n",
        "    print(\"Global:\", a)\n",
        "\n",
        "setGlobal()\n",
        "print(\"Global:\", a)"
      ],
      "metadata": {
        "colab": {
          "base_uri": "https://localhost:8080/"
        },
        "id": "dROPc_989LqP",
        "outputId": "ecd1a59f-9bde-4647-e294-05d18f7b27fb"
      },
      "execution_count": 24,
      "outputs": [
        {
          "output_type": "stream",
          "name": "stdout",
          "text": [
            "Global: 456\n",
            "Global: 456\n"
          ]
        }
      ]
    },
    {
      "cell_type": "markdown",
      "source": [
        "#### 클래스\n",
        "- 파이썬은 객체지향프로그램이 가능하다.\n",
        "- 객체지향에는 클래스와 인스턴스가 있다.\n",
        "- 클래스를 정의할 때 **class**표기를 사용한다.\n",
        "- 클래스를 이용하면 메소드(함수와 비슷. **def**로 생성)를 정리할 수 있다."
      ],
      "metadata": {
        "id": "F-OWofYp9djf"
      }
    },
    {
      "cell_type": "code",
      "source": [
        "# Calc클래스 정의.\n",
        "# Calc클래스 내부에 __init__메소드, add메소드, multiply메소드가 구현되어 있음\n",
        "\n",
        "class Calc:\n",
        "    def __init__(self, a):\n",
        "        self.a = a\n",
        "\n",
        "    def add(self, b):\n",
        "        print(self.a + b)\n",
        "\n",
        "    def multiply(self, b):\n",
        "        print(self.a * b)"
      ],
      "metadata": {
        "id": "Cghc0_hc9cm6"
      },
      "execution_count": 25,
      "outputs": []
    },
    {
      "cell_type": "markdown",
      "source": [
        "- 파이썬의 메소드는 self를 인수로 전달하는 특징이 있다.\n",
        "- self를 사용해 다른 메소드나 외부에서 접근할 수 있는 인덱스 변수를 다룰 수 있다.\n",
        "- ```__init__메소드```\n",
        "    - 특수한 메소드. **생성자**라고 함.\n",
        "    - 인스턴스의 초깃값을 설정\n",
        "- 클래스에서 인스턴스를 생성하고 메소드를 호출 가능"
      ],
      "metadata": {
        "id": "-WKDggzs-Lkp"
      }
    },
    {
      "cell_type": "code",
      "source": [
        "calc = Calc(3)          # 클래스의 인스턴스 생성\n",
        "calc.add(4)             # 메소드 실행\n",
        "calc.multiply(4)"
      ],
      "metadata": {
        "colab": {
          "base_uri": "https://localhost:8080/"
        },
        "id": "yQ_6kUmz-ICx",
        "outputId": "2f4bfe4e-1915-42e7-84d1-7d52ef796410"
      },
      "execution_count": 26,
      "outputs": [
        {
          "output_type": "stream",
          "name": "stdout",
          "text": [
            "7\n",
            "12\n"
          ]
        }
      ]
    },
    {
      "cell_type": "markdown",
      "source": [
        "- 인스턴스를 초기화할 때 3을 인스턴스에 전달하고 add 메소드와 multiply 메소드를 호출한다.\n",
        "- 클래스는 상속 개념이 있다.\n",
        "- 클래스를 상속받으면 기존 클래스를 승계해 새로운 클래스를 정의할 수 있다."
      ],
      "metadata": {
        "id": "XyI1bnak_Rsw"
      }
    },
    {
      "cell_type": "code",
      "source": [
        "class CalcPlus(Calc):           # Calc를 상속받음\n",
        "    def subtract(self, b):\n",
        "        print(self.a - b)\n",
        "\n",
        "    def divide(self, b):\n",
        "        print(self.a / b)"
      ],
      "metadata": {
        "id": "JviJEJei_Jw9"
      },
      "execution_count": 27,
      "outputs": []
    },
    {
      "cell_type": "markdown",
      "source": [
        "- subtract 메소드와 divide 메소드가 새로 추가됨\n",
        "- CalcPlus 클래스에서 인스턴스를 생성하고 메소드 호출"
      ],
      "metadata": {
        "id": "cARit_BL_xmz"
      }
    },
    {
      "cell_type": "code",
      "source": [
        "calc_plus = CalcPlus(3)\n",
        "calc_plus.add(4)\n",
        "calc_plus.multiply(4)\n",
        "calc_plus.subtract(4)\n",
        "calc_plus.divide(4)"
      ],
      "metadata": {
        "colab": {
          "base_uri": "https://localhost:8080/"
        },
        "id": "bFKIo_9__vv1",
        "outputId": "e4911b4d-829a-47ce-d6d5-6b8eabfa7f7f"
      },
      "execution_count": 28,
      "outputs": [
        {
          "output_type": "stream",
          "name": "stdout",
          "text": [
            "7\n",
            "12\n",
            "-1\n",
            "0.75\n"
          ]
        }
      ]
    },
    {
      "cell_type": "markdown",
      "source": [
        "- Calc 클래스에서 정의된 메소드와 상속받은 CalcPlus 클래스에서 정의된 메소드도 같은 방식으로 호출 가능\n",
        "- 클래스 상속을 이용해 클래스의 공통 부분을 부모 클래스에 한 번에 정리 가능"
      ],
      "metadata": {
        "id": "n40i3ND7AFqr"
      }
    },
    {
      "cell_type": "code",
      "source": [
        ""
      ],
      "metadata": {
        "id": "1H4RJQWMAEkh"
      },
      "execution_count": null,
      "outputs": []
    }
  ]
}