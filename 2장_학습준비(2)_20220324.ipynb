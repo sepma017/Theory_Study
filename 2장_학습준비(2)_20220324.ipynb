{
  "nbformat": 4,
  "nbformat_minor": 0,
  "metadata": {
    "colab": {
      "name": "2장_학습준비(2)_20220324.ipynb",
      "provenance": [],
      "collapsed_sections": [],
      "authorship_tag": "ABX9TyMpsJH8si8XzTlDp8DQ6B/7"
    },
    "kernelspec": {
      "name": "python3",
      "display_name": "Python 3"
    },
    "language_info": {
      "name": "python"
    }
  },
  "cells": [
    {
      "cell_type": "markdown",
      "source": [
        "# 넘파이와 맷플롯립\n",
        "- 넘파이(Numpy)\n",
        "    - 파이썬의 확장 모듈. 간단한 코드로 데이터를 효율적으로 처리할 수 있다.\n",
        "    - 다차원 배열 지원. 백터나 행렬 다룰 때 유용함.\n",
        "- 맷플롯립(Matplotlib)\n",
        "    - 넘파이와 같은 파이썬 외부 모듈.\n",
        "    - 그래프나 이미지 표시, 간단한 애니메이션 생성 가능"
      ],
      "metadata": {
        "id": "CCJMOkxAjcgM"
      }
    },
    {
      "cell_type": "markdown",
      "source": [
        "### 모듈 임포트\n",
        "- 모듈 : 재사용할 수 있는 파이썬 스크랩트 파일\n",
        "- import 명령어로 모듈 이용 가능"
      ],
      "metadata": {
        "id": "KTYswlkAj-vo"
      }
    },
    {
      "cell_type": "code",
      "execution_count": 14,
      "metadata": {
        "id": "8qXJiagTjVXb"
      },
      "outputs": [],
      "source": [
        "%matplotlib inline\n",
        "\n",
        "import numpy as np\n",
        "import matplotlib.pyplot as plt"
      ]
    },
    {
      "cell_type": "markdown",
      "source": [
        "### 넘파이 배열\n",
        "- 배열과 벡터를 많이 이용\n",
        "- 넘파이의 배열은 array함수를 이용해 파이썬 리스트로 간단히 생성가능"
      ],
      "metadata": {
        "id": "KWtHwRwVnDev"
      }
    },
    {
      "cell_type": "code",
      "source": [
        "a = np.array([0, 1, 2, 3, 4, 5])\n",
        "print(a)"
      ],
      "metadata": {
        "colab": {
          "base_uri": "https://localhost:8080/"
        },
        "id": "WF659q-8kcYA",
        "outputId": "50baec63-8a62-40b0-eda8-b10257c253ff"
      },
      "execution_count": 15,
      "outputs": [
        {
          "output_type": "stream",
          "name": "stdout",
          "text": [
            "[0 1 2 3 4 5]\n"
          ]
        }
      ]
    },
    {
      "cell_type": "markdown",
      "source": [
        "- 외부 모듈 함수를 이용할 때는 모듈명과 함수명 사이에 온점(.)을 쓴다.\n",
        "- 배열을 2차원 행렬로 만들 수도 있다.\n",
        "- 2차원 배열은 원소가 리스트 안에 포함된 리스트(이중 리스트) 형태로 만든다."
      ],
      "metadata": {
        "id": "wRevBLtRoeLe"
      }
    },
    {
      "cell_type": "code",
      "source": [
        "# 2차원 배열 생성\n",
        "b = np.array([[0, 1, 2], [3, 4, 5]])    # 이중 리스트로 생성\n",
        "print(b)"
      ],
      "metadata": {
        "colab": {
          "base_uri": "https://localhost:8080/"
        },
        "id": "fC-WmXIvocbt",
        "outputId": "e003318d-7e74-42e4-c7ff-069cdad96420"
      },
      "execution_count": 16,
      "outputs": [
        {
          "output_type": "stream",
          "name": "stdout",
          "text": [
            "[[0 1 2]\n",
            " [3 4 5]]\n"
          ]
        }
      ]
    },
    {
      "cell_type": "markdown",
      "source": [
        "- 3차원 배열도 만들 수 있다.\n",
        "- 3차원 배열은 2차원 배열이 중첩된 것. 삼중 리스트 형태로 생성\n",
        "- 차원이 더 높은 배열을 만들 수 있다."
      ],
      "metadata": {
        "id": "e5PZ3QTIo9ST"
      }
    },
    {
      "cell_type": "code",
      "source": [
        "# 3차원 배열 생성\n",
        "c = np.array([[[0, 1, 2], [3, 4, 5]], [[5, 4, 3], [2, 1, 0]]])\n",
        "print(c)"
      ],
      "metadata": {
        "colab": {
          "base_uri": "https://localhost:8080/"
        },
        "id": "jZI6MCeto77D",
        "outputId": "b5d01008-66ba-4a45-bdfd-8f838eb48b86"
      },
      "execution_count": 17,
      "outputs": [
        {
          "output_type": "stream",
          "name": "stdout",
          "text": [
            "[[[0 1 2]\n",
            "  [3 4 5]]\n",
            "\n",
            " [[5 4 3]\n",
            "  [2 1 0]]]\n"
          ]
        }
      ]
    },
    {
      "cell_type": "markdown",
      "source": [
        "- 배열의 형태(각 차원의 원소 수)는 shape함수로 확인 가능"
      ],
      "metadata": {
        "id": "SyZsGoMwpvui"
      }
    },
    {
      "cell_type": "code",
      "source": [
        "# shape 속성 확인\n",
        "print(c.shape)"
      ],
      "metadata": {
        "colab": {
          "base_uri": "https://localhost:8080/"
        },
        "id": "-pP8LxjXpuOu",
        "outputId": "1aa05bea-6094-4ba7-e74c-ba61fb98bc59"
      },
      "execution_count": 18,
      "outputs": [
        {
          "output_type": "stream",
          "name": "stdout",
          "text": [
            "(2, 2, 3)\n"
          ]
        }
      ]
    },
    {
      "cell_type": "markdown",
      "source": [
        "- 배열의 형태는 튜플 형태로 출력\n",
        "- 리스트의 원소 수를 세는 len함수를 배열에 이용하면 첫 번째 차원의 원소 개수를 센다."
      ],
      "metadata": {
        "id": "hMKWIebgqO6O"
      }
    },
    {
      "cell_type": "code",
      "source": [
        "# len함수\n",
        "d = [[1,2],[3,4],[5,6]] # (3,2)\n",
        "print(len(d))\n",
        "print(len(np.array(d)))"
      ],
      "metadata": {
        "colab": {
          "base_uri": "https://localhost:8080/"
        },
        "id": "Lyupzn5UqM3L",
        "outputId": "810440f5-2238-43e8-a220-5eaa099c405b"
      },
      "execution_count": 19,
      "outputs": [
        {
          "output_type": "stream",
          "name": "stdout",
          "text": [
            "3\n",
            "3\n"
          ]
        }
      ]
    },
    {
      "cell_type": "markdown",
      "source": [
        "### 배열을 생성하는 다양한 함수\n",
        "- 넘파이에는 array함수 외에도 배열을 생성하는 함수들이 많다.\n",
        "- zeros함수(모든 원소 값이 0인 배열), ones함수(모든 원소 값이 1인 배열), random.rand함수(모든 원소 값을 난수로 생성하는 함수)"
      ],
      "metadata": {
        "id": "WdMqLoCDujZi"
      }
    },
    {
      "cell_type": "code",
      "source": [
        "# 배열을 생성하는 함수\n",
        "print(np.zeros(10))\n",
        "print(np.ones(10))\n",
        "print(np.random.rand(10))"
      ],
      "metadata": {
        "colab": {
          "base_uri": "https://localhost:8080/"
        },
        "id": "dpRHuHjQuhqD",
        "outputId": "a05e50af-0b59-48c7-a849-df7291975963"
      },
      "execution_count": 20,
      "outputs": [
        {
          "output_type": "stream",
          "name": "stdout",
          "text": [
            "[0. 0. 0. 0. 0. 0. 0. 0. 0. 0.]\n",
            "[1. 1. 1. 1. 1. 1. 1. 1. 1. 1.]\n",
            "[0.10788627 0.63399677 0.87059157 0.0296856  0.53259587 0.49441261\n",
            " 0.26665608 0.39571091 0.89086157 0.46273104]\n"
          ]
        }
      ]
    },
    {
      "cell_type": "markdown",
      "source": [
        "- zeros함수와 ones함수는 인수에 튜플을 지정할 수 있다.\n",
        "- 이때 배열은 튜플 형태의 다차원 배열이 된다."
      ],
      "metadata": {
        "id": "gq8Cp8qCvLHh"
      }
    },
    {
      "cell_type": "code",
      "source": [
        "# 튜플을 전달하는 경우\n",
        "print(np.zeros((2, 3)))\n",
        "print(np.ones((2, 3)))"
      ],
      "metadata": {
        "colab": {
          "base_uri": "https://localhost:8080/"
        },
        "id": "AxDWqG2ovHVp",
        "outputId": "4a52e41e-c5c6-41c0-99b7-8e793fafdf27"
      },
      "execution_count": 21,
      "outputs": [
        {
          "output_type": "stream",
          "name": "stdout",
          "text": [
            "[[0. 0. 0.]\n",
            " [0. 0. 0.]]\n",
            "[[1. 1. 1.]\n",
            " [1. 1. 1.]]\n"
          ]
        }
      ]
    },
    {
      "cell_type": "markdown",
      "source": [
        "- linspace함수를 이용해 0부터 1까지 원ㅅ 수가 11개인 배열을 생성한다. 원소의 간격은 0.1"
      ],
      "metadata": {
        "id": "kj60QyeKvijP"
      }
    },
    {
      "cell_type": "code",
      "source": [
        "# linspace 함수 이용\n",
        "print(np.linspace(0, 1, 11))"
      ],
      "metadata": {
        "colab": {
          "base_uri": "https://localhost:8080/"
        },
        "id": "ZNAfWTsZvfU5",
        "outputId": "d3471867-f2c7-40dd-d795-d504474236f1"
      },
      "execution_count": 22,
      "outputs": [
        {
          "output_type": "stream",
          "name": "stdout",
          "text": [
            "[0.  0.1 0.2 0.3 0.4 0.5 0.6 0.7 0.8 0.9 1. ]\n"
          ]
        }
      ]
    },
    {
      "cell_type": "markdown",
      "source": [
        "- linspace 함수의 3번째 인수는 생략 가능하며, 생략하면 배열의 원소 수는 50.\n",
        "- 0부터 1까지 같은 간격으로 50개의 값을 가진 배열을 생성하는 예"
      ],
      "metadata": {
        "id": "THy3CC4xvz2r"
      }
    },
    {
      "cell_type": "code",
      "source": [
        "print(np.linspace(0, 1))"
      ],
      "metadata": {
        "colab": {
          "base_uri": "https://localhost:8080/"
        },
        "id": "rJlzQxgrvxZg",
        "outputId": "a91abbf2-6ab0-434c-a7a6-19fd5e9195df"
      },
      "execution_count": 23,
      "outputs": [
        {
          "output_type": "stream",
          "name": "stdout",
          "text": [
            "[0.         0.02040816 0.04081633 0.06122449 0.08163265 0.10204082\n",
            " 0.12244898 0.14285714 0.16326531 0.18367347 0.20408163 0.2244898\n",
            " 0.24489796 0.26530612 0.28571429 0.30612245 0.32653061 0.34693878\n",
            " 0.36734694 0.3877551  0.40816327 0.42857143 0.44897959 0.46938776\n",
            " 0.48979592 0.51020408 0.53061224 0.55102041 0.57142857 0.59183673\n",
            " 0.6122449  0.63265306 0.65306122 0.67346939 0.69387755 0.71428571\n",
            " 0.73469388 0.75510204 0.7755102  0.79591837 0.81632653 0.83673469\n",
            " 0.85714286 0.87755102 0.89795918 0.91836735 0.93877551 0.95918367\n",
            " 0.97959184 1.        ]\n"
          ]
        }
      ]
    },
    {
      "cell_type": "markdown",
      "source": [
        "- linspace함수는 그래프의 가로, 세로축의 값을 나타낼 때 자주 이용됨"
      ],
      "metadata": {
        "id": "LFpAakr0wVHv"
      }
    },
    {
      "cell_type": "markdown",
      "source": [
        "### reshape를 이용한 형태 변환\n",
        "- 넘파이의 reshape 메소드를 사용해 배열의 형태를 변환 가능."
      ],
      "metadata": {
        "id": "f0mG1c0VwuZW"
      }
    },
    {
      "cell_type": "code",
      "source": [
        "# reshape 메소드 사용\n",
        "a = np.array([0, 1, 2, 3, 4, 5, 6, 7])  # 배열 생성\n",
        "b = a.reshape(2, 4)                     # (2, 4)형태의 2차원 배열로 변환\n",
        "print(b)"
      ],
      "metadata": {
        "colab": {
          "base_uri": "https://localhost:8080/"
        },
        "id": "IFXP2S86wT3z",
        "outputId": "dc9c2a7a-e574-418a-cbb8-19797052f3c7"
      },
      "execution_count": 24,
      "outputs": [
        {
          "output_type": "stream",
          "name": "stdout",
          "text": [
            "[[0 1 2 3]\n",
            " [4 5 6 7]]\n"
          ]
        }
      ]
    },
    {
      "cell_type": "code",
      "source": [
        "c = b.reshape(2, 2, 2)\n",
        "print(c)"
      ],
      "metadata": {
        "colab": {
          "base_uri": "https://localhost:8080/"
        },
        "id": "AiPYkXQPxMsD",
        "outputId": "a3d3170f-75cd-41f8-81ae-85254c505727"
      },
      "execution_count": 25,
      "outputs": [
        {
          "output_type": "stream",
          "name": "stdout",
          "text": [
            "[[[0 1]\n",
            "  [2 3]]\n",
            "\n",
            " [[4 5]\n",
            "  [6 7]]]\n"
          ]
        }
      ]
    },
    {
      "cell_type": "markdown",
      "source": [
        "- 총 원소 수만 일치하면 어떤 형태든 reshape로 변환 가능\n",
        "- reshape의 인수를 -1로 지정하면 어떠한 형태의 배열도 1차원 배열로 변환 가능"
      ],
      "metadata": {
        "id": "rTSzgE-HxY2k"
      }
    },
    {
      "cell_type": "code",
      "source": [
        "# 1차원 배열로 전환\n",
        "e = c.reshape(-1)\n",
        "print(e)"
      ],
      "metadata": {
        "colab": {
          "base_uri": "https://localhost:8080/"
        },
        "id": "Nar58_5JxWuB",
        "outputId": "63ab991b-8bff-4a09-fd76-d74ef8534d60"
      },
      "execution_count": 26,
      "outputs": [
        {
          "output_type": "stream",
          "name": "stdout",
          "text": [
            "[0 1 2 3 4 5 6 7]\n"
          ]
        }
      ]
    },
    {
      "cell_type": "markdown",
      "source": [
        "- 여러 개의 인수 중 하나를 -1로 지정하면 해당 차원의 원소 수를 자동으로 게산해줌."
      ],
      "metadata": {
        "id": "5l8RJX9DyA4P"
      }
    },
    {
      "cell_type": "code",
      "source": [
        "# 원소 수를 자동으로 계산\n",
        "f = e.reshape(2, -1)\n",
        "print(f)"
      ],
      "metadata": {
        "colab": {
          "base_uri": "https://localhost:8080/"
        },
        "id": "JvHoLhhex-_C",
        "outputId": "a984360d-b61e-46d1-982e-d4fa75bc752b"
      },
      "execution_count": 27,
      "outputs": [
        {
          "output_type": "stream",
          "name": "stdout",
          "text": [
            "[[0 1 2 3]\n",
            " [4 5 6 7]]\n"
          ]
        }
      ]
    },
    {
      "cell_type": "markdown",
      "source": [
        "### 배열 연산\n",
        "- 배열과 배열, 배열과 수치 간에도 연산 가능\n",
        "- 배열과 수치의 연산의 경우 배열의 각 원소와 수치 사이에 연산이 이뤄짐."
      ],
      "metadata": {
        "id": "VWutHkZSHe6A"
      }
    },
    {
      "cell_type": "code",
      "source": [
        "# 배열과 수치의 연산\n",
        "a = np.array([0, 1, 2, 3, 4, 5]).reshape(2, 3)  # 2행 3열 배열 생성\n",
        "print(a)            \n",
        "print(a + 3)                                    # 각 원소 값에 3을 더함\n",
        "print(a * 3)                                    # 각 원소 값에 3을 곱함"
      ],
      "metadata": {
        "colab": {
          "base_uri": "https://localhost:8080/"
        },
        "id": "hvg1-056HUr_",
        "outputId": "99ec2bcd-76b4-45a1-c972-95625a2cc6db"
      },
      "execution_count": 28,
      "outputs": [
        {
          "output_type": "stream",
          "name": "stdout",
          "text": [
            "[[0 1 2]\n",
            " [3 4 5]]\n",
            "[[3 4 5]\n",
            " [6 7 8]]\n",
            "[[ 0  3  6]\n",
            " [ 9 12 15]]\n"
          ]
        }
      ]
    },
    {
      "cell_type": "markdown",
      "source": [
        "- 배열 간 연산에서는 배열의 형태가 서로 같지 않으면 오류가 발생하므로 주의!\n",
        "- 브로드캐스트 조건을 만족하면 형태가 다른 배열끼리라도 연산 가능"
      ],
      "metadata": {
        "id": "ZRS37i21IE_x"
      }
    },
    {
      "cell_type": "code",
      "source": [
        "# 배열 간 연산\n",
        "b = np.array([5, 4, 3, 2, 1, 0]).reshape(2, 3)\n",
        "print(b)\n",
        "print(a + b)                # 배열 간 덧셈\n",
        "print(a * b)                # 배열 간 곱셈"
      ],
      "metadata": {
        "colab": {
          "base_uri": "https://localhost:8080/"
        },
        "id": "lzXMXrHYH95J",
        "outputId": "8cde7c03-a1fe-4dfb-92f1-8975929d9d5b"
      },
      "execution_count": 29,
      "outputs": [
        {
          "output_type": "stream",
          "name": "stdout",
          "text": [
            "[[5 4 3]\n",
            " [2 1 0]]\n",
            "[[5 5 5]\n",
            " [5 5 5]]\n",
            "[[0 4 6]\n",
            " [6 4 0]]\n"
          ]
        }
      ]
    },
    {
      "cell_type": "markdown",
      "source": [
        "- 넘파이에서 특정 조건을 만족하면 형태가 다른 배열 간에도 연산 가능(브로드캐스트(broadcast))"
      ],
      "metadata": {
        "id": "01W3K-dTIe6W"
      }
    },
    {
      "cell_type": "code",
      "source": [
        "# 2개의 배열\n",
        "a = np.array([[1, 1], [1, 1]])      # 2차원 배열\n",
        "b = np.array([1, 2])                # 1차원 배열"
      ],
      "metadata": {
        "id": "ZQsyv6mxIc6S"
      },
      "execution_count": 30,
      "outputs": []
    },
    {
      "cell_type": "code",
      "source": [
        "# 브로드캐스트\n",
        "print(a + b)"
      ],
      "metadata": {
        "colab": {
          "base_uri": "https://localhost:8080/"
        },
        "id": "rRXtGVRaIzgp",
        "outputId": "de928c03-eba8-4d96-c5d7-afea60c20d52"
      },
      "execution_count": 31,
      "outputs": [
        {
          "output_type": "stream",
          "name": "stdout",
          "text": [
            "[[2 3]\n",
            " [2 3]]\n"
          ]
        }
      ]
    },
    {
      "cell_type": "markdown",
      "source": [
        "- 배열 b는 1차원 배열을 수직으로 나열한 2차원 배열이 되어 연산의 대상이 됨. => 동일한 형상을 갖는 배열끼리의 연산으로 처리됨.\n",
        "- 한 방향으로 확장되어 배열의 형태가 일치하면 형태가 다른 배열 간에도 브로드캐스트를 이용하여 연산 가능"
      ],
      "metadata": {
        "id": "It-anhwuI6gA"
      }
    },
    {
      "cell_type": "markdown",
      "source": [
        "### 원소 값에 접근\n",
        "- 2차원 배열의 경우, 원소 값을 얻을 때 인덱스를 가로, 세로 2개를 지정\n",
        "- 쉼표로 구분해 인덱스를 나열할 수도 있고 인덱스를 입력한 []를 2개 나열할 수도 있다."
      ],
      "metadata": {
        "id": "6jGjrTXXJTB2"
      }
    },
    {
      "cell_type": "code",
      "source": [
        "# 인덱스 사용\n",
        "b = np.array([[0, 1, 2], [3, 4, 5]])\n",
        "print(b[1, 2])          # b[1][2]와 같음"
      ],
      "metadata": {
        "colab": {
          "base_uri": "https://localhost:8080/"
        },
        "id": "rlMRDV56I4n3",
        "outputId": "8c8ac58f-c131-4a28-bee5-ecab1dd1b2fd"
      },
      "execution_count": 32,
      "outputs": [
        {
          "output_type": "stream",
          "name": "stdout",
          "text": [
            "5\n"
          ]
        }
      ]
    },
    {
      "cell_type": "markdown",
      "source": [
        "- 차원이 높은 배열의 원소 값에 접근할 때는 차원의 수만 인덱스로 지정할 필요가 있다.\n",
        "- 넘파이의 슬라이싱(slicing)기능을 아용하면 배열의 일부분 값을 추출하거나 변경 가능.\n",
        "```\n",
        "배열명[이 인덱스 이상:이 인덱스 미만]\n",
        "```"
      ],
      "metadata": {
        "id": "WLJTzTAxJ-ES"
      }
    },
    {
      "cell_type": "code",
      "source": [
        "# 슬라이싱 이용\n",
        "a = np.array([0, 1, 2, 3, 4, 5, 6, 7, 8, 9])\n",
        "print(a[2:8])"
      ],
      "metadata": {
        "colab": {
          "base_uri": "https://localhost:8080/"
        },
        "id": "A-o69YL4J8fq",
        "outputId": "27de1cce-942f-4697-a814-de209aa2330c"
      },
      "execution_count": 33,
      "outputs": [
        {
          "output_type": "stream",
          "name": "stdout",
          "text": [
            "[2 3 4 5 6 7]\n"
          ]
        }
      ]
    },
    {
      "cell_type": "markdown",
      "source": [
        "- 2이상 8미만인 원소 값이 추출되어 1차원 배열이 됨.\n",
        "- 추출한 배열의 차원은 원래 배열의 차원과 같음.\n",
        "- []안에 : 기호를 이용해 모든 원소를 지정할 수도 있음."
      ],
      "metadata": {
        "id": "3xJluiGoK5dg"
      }
    },
    {
      "cell_type": "code",
      "source": [
        "# 모든 원소 값을 지정함\n",
        "print(a[:])"
      ],
      "metadata": {
        "colab": {
          "base_uri": "https://localhost:8080/"
        },
        "id": "NtsTuPWJK1jv",
        "outputId": "0b71e66b-9d52-44f3-ad61-21b36d995325"
      },
      "execution_count": 34,
      "outputs": [
        {
          "output_type": "stream",
          "name": "stdout",
          "text": [
            "[0 1 2 3 4 5 6 7 8 9]\n"
          ]
        }
      ]
    },
    {
      "cell_type": "markdown",
      "source": [
        "- 2차원 배열의 경우, 쉼표를 구분해 각 차원의 범위를 지정"
      ],
      "metadata": {
        "id": "fHTKnX5uLRQG"
      }
    },
    {
      "cell_type": "code",
      "source": [
        "b = np.array([[0, 1, 2], [3, 4, 5], [6, 7, 8]])\n",
        "print(b[ : , 0:2])          # 각 차원의 범위를 지정"
      ],
      "metadata": {
        "colab": {
          "base_uri": "https://localhost:8080/"
        },
        "id": "kyuEnXd0LODh",
        "outputId": "c250b07a-d56f-4934-c7e2-a6645147db5d"
      },
      "execution_count": 35,
      "outputs": [
        {
          "output_type": "stream",
          "name": "stdout",
          "text": [
            "[[0 1]\n",
            " [3 4]\n",
            " [6 7]]\n"
          ]
        }
      ]
    },
    {
      "cell_type": "markdown",
      "source": [
        "- 슬라이싱을 활용해 배열 b의 모든 행에서 왼쪽에서 2번째 열의 원소 추출\n",
        "- 차원이 더 높은 배열에 대해서도 같은 방식으로 일부 영역의 원소 값을 추출 가능."
      ],
      "metadata": {
        "id": "e3_5suH9LicS"
      }
    },
    {
      "cell_type": "markdown",
      "source": [
        "### 그래프 그리기\n",
        "- 넘파이와 맷플롯립을 사용하여 sin함수를 그린다.\n",
        "- linspace 함수에서 x좌표의 데이터를 배열로 생성, sin함수로 사인값 구하고 y좌표로 설정.\n",
        "- plot함수로 x좌표, y좌표 데이터를 이용해 그래프를 생성하고 show함수로 그래프 표시"
      ],
      "metadata": {
        "id": "Q_GChIRGfNj8"
      }
    },
    {
      "cell_type": "code",
      "source": [
        "# 디자인된 그래프 생성\n",
        "x = np.linspace(0, 2*np.pi) \n",
        "y_sin = np.sin(x)\n",
        "y_cos = np.cos(x)\n",
        "\n",
        "# 축 이름\n",
        "plt.xlabel(\"x value\")\n",
        "plt.ylabel(\"y value\")\n",
        "\n",
        "# 그래프 제목\n",
        "plt.title(\"sin/cos\")\n",
        "plt.plot(x, y_sin, label=\"sin\")\n",
        "plt.plot(x, y_cos, label=\"cos\", linestyle=\"dashed\")\n",
        "plt.legend()        # 범례 표시\n",
        "\n",
        "plt.show()"
      ],
      "metadata": {
        "colab": {
          "base_uri": "https://localhost:8080/",
          "height": 294
        },
        "id": "XFvSNqISLgnY",
        "outputId": "e40955b3-db12-462b-cb98-c946576f0008"
      },
      "execution_count": 36,
      "outputs": [
        {
          "output_type": "display_data",
          "data": {
            "text/plain": [
              "<Figure size 432x288 with 1 Axes>"
            ],
            "image/png": "[encoded data removed]"
          },
          "metadata": {
            "needs_background": "light"
          }
        }
      ]
    },
    {
      "cell_type": "markdown",
      "source": [
        "- scatter 함수를 이용해 산포도를 생성할 수 있다."
      ],
      "metadata": {
        "id": "hrb9sC75gEMb"
      }
    },
    {
      "cell_type": "code",
      "source": [
        "# 배열을 이미지로 표시\n",
        "img = np.array([[0, 1, 2, 3], [4, 5, 6, 7], [8, 9, 10, 11], [12, 13, 14, 15]])\n",
        "plt.imshow(img, \"gray\")         # 그레이 스케일로 표시\n",
        "plt.colorbar()                  # 컬러 막대 표시\n",
        "\n",
        "plt.show()"
      ],
      "metadata": {
        "colab": {
          "base_uri": "https://localhost:8080/",
          "height": 268
        },
        "id": "oXAXywbAgCfH",
        "outputId": "ebd809b4-477a-4e9e-f85a-17034b1a43b4"
      },
      "execution_count": 37,
      "outputs": [
        {
          "output_type": "display_data",
          "data": {
            "text/plain": [
              "<Figure size 432x288 with 2 Axes>"
            ],
            "image/png": "[encoded data removed]"
          },
          "metadata": {
            "needs_background": "light"
          }
        }
      ]
    },
    {
      "cell_type": "markdown",
      "source": [
        "- 0이 검은색, 15가 흰색, 그 사이 값은 둘의 중간색을 나타냄."
      ],
      "metadata": {
        "id": "yMhJgMqUgdSD"
      }
    },
    {
      "cell_type": "code",
      "source": [
        ""
      ],
      "metadata": {
        "id": "sJL04vfqgblu"
      },
      "execution_count": null,
      "outputs": []
    }
  ]
}